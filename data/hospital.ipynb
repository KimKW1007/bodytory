{
 "cells": [
  {
   "cell_type": "code",
   "execution_count": 67,
   "metadata": {},
   "outputs": [
    {
     "data": {
      "text/html": [
       "<div>\n",
       "<style scoped>\n",
       "    .dataframe tbody tr th:only-of-type {\n",
       "        vertical-align: middle;\n",
       "    }\n",
       "\n",
       "    .dataframe tbody tr th {\n",
       "        vertical-align: top;\n",
       "    }\n",
       "\n",
       "    .dataframe thead th {\n",
       "        text-align: right;\n",
       "    }\n",
       "</style>\n",
       "<table border=\"1\" class=\"dataframe\">\n",
       "  <thead>\n",
       "    <tr style=\"text-align: right;\">\n",
       "      <th></th>\n",
       "      <th>번호</th>\n",
       "      <th>개방자치단체코드</th>\n",
       "      <th>소재지전화</th>\n",
       "      <th>주소</th>\n",
       "      <th>사업장명</th>\n",
       "      <th>진료과목내용</th>\n",
       "      <th>진료과목내용명</th>\n",
       "    </tr>\n",
       "  </thead>\n",
       "  <tbody>\n",
       "    <tr>\n",
       "      <th>0</th>\n",
       "      <td>1</td>\n",
       "      <td>5340000</td>\n",
       "      <td>055-851-5400</td>\n",
       "      <td>경상남도 사천시 사천읍 옥산로 127, 3~7층</td>\n",
       "      <td>의료법인 행복한의료재단 사천중앙요양병원</td>\n",
       "      <td>308 301 122 120 110 105 102 101</td>\n",
       "      <td>내과, 신경과, 정형외과, 산부인과, 재활의학과, 가정의학과, 한방내과, 침구과</td>\n",
       "    </tr>\n",
       "    <tr>\n",
       "      <th>1</th>\n",
       "      <td>2</td>\n",
       "      <td>5340000</td>\n",
       "      <td>055-852-2250</td>\n",
       "      <td>경상남도 사천시 사천읍 구암두문로 74</td>\n",
       "      <td>사천동희병원</td>\n",
       "      <td>122 114 113 111 103 102 101</td>\n",
       "      <td>내과, 신경과, 정신건강의학과, 소아청소년과, 이비인후과, 피부과, 가정의학과</td>\n",
       "    </tr>\n",
       "    <tr>\n",
       "      <th>2</th>\n",
       "      <td>3</td>\n",
       "      <td>5340000</td>\n",
       "      <td>055-834-2345</td>\n",
       "      <td>경상남도 사천시 각산로 86 (서동, 미진예식장)</td>\n",
       "      <td>의료법인 삼포의료재단 현대요양병원</td>\n",
       "      <td>308 306 301 122 120 114 106 105 104 102 101</td>\n",
       "      <td>내과, 신경과, 외과, 정형외과, 신경외과, 피부과, 재활의학과, 가정의학과, 한방...</td>\n",
       "    </tr>\n",
       "    <tr>\n",
       "      <th>3</th>\n",
       "      <td>4</td>\n",
       "      <td>5380000</td>\n",
       "      <td>055-389-1234</td>\n",
       "      <td>경상남도 양산시 모래들1길 91 (주진동)</td>\n",
       "      <td>양산병원</td>\n",
       "      <td>101 103 102</td>\n",
       "      <td>내과, 신경과, 정신건강의학과</td>\n",
       "    </tr>\n",
       "    <tr>\n",
       "      <th>4</th>\n",
       "      <td>5</td>\n",
       "      <td>5410000</td>\n",
       "      <td>055-806-8600</td>\n",
       "      <td>경상남도 창녕군 고암면 상대2길 16, 더케이서드에이지</td>\n",
       "      <td>프라임요양병원</td>\n",
       "      <td>308 307 304 302 301 115 114 113 112 106 105 10...</td>\n",
       "      <td>내과, 신경과, 정신건강의학과, 외과, 정형외과, 신경외과, 안과, 이비인후과, 피...</td>\n",
       "    </tr>\n",
       "  </tbody>\n",
       "</table>\n",
       "</div>"
      ],
      "text/plain": [
       "   번호  개방자치단체코드         소재지전화                              주소  \\\n",
       "0   1   5340000  055-851-5400      경상남도 사천시 사천읍 옥산로 127, 3~7층   \n",
       "1   2   5340000  055-852-2250           경상남도 사천시 사천읍 구암두문로 74   \n",
       "2   3   5340000  055-834-2345     경상남도 사천시 각산로 86 (서동, 미진예식장)   \n",
       "3   4   5380000  055-389-1234         경상남도 양산시 모래들1길 91 (주진동)   \n",
       "4   5   5410000  055-806-8600  경상남도 창녕군 고암면 상대2길 16, 더케이서드에이지   \n",
       "\n",
       "                    사업장명                                             진료과목내용  \\\n",
       "0  의료법인 행복한의료재단 사천중앙요양병원                    308 301 122 120 110 105 102 101   \n",
       "1                 사천동희병원                        122 114 113 111 103 102 101   \n",
       "2     의료법인 삼포의료재단 현대요양병원        308 306 301 122 120 114 106 105 104 102 101   \n",
       "3                   양산병원                                        101 103 102   \n",
       "4                프라임요양병원  308 307 304 302 301 115 114 113 112 106 105 10...   \n",
       "\n",
       "                                             진료과목내용명  \n",
       "0       내과, 신경과, 정형외과, 산부인과, 재활의학과, 가정의학과, 한방내과, 침구과  \n",
       "1        내과, 신경과, 정신건강의학과, 소아청소년과, 이비인후과, 피부과, 가정의학과  \n",
       "2  내과, 신경과, 외과, 정형외과, 신경외과, 피부과, 재활의학과, 가정의학과, 한방...  \n",
       "3                                   내과, 신경과, 정신건강의학과  \n",
       "4  내과, 신경과, 정신건강의학과, 외과, 정형외과, 신경외과, 안과, 이비인후과, 피...  "
      ]
     },
     "execution_count": 67,
     "metadata": {},
     "output_type": "execute_result"
    }
   ],
   "source": [
    "from pyproj import Proj, transform\n",
    "import numpy as np\n",
    "import pandas as pd\n",
    "import re\n",
    "\n",
    "data=pd.read_csv(\"hospital_수정02.csv\",encoding='CP949')\n",
    "data.head()"
   ]
  },
  {
   "cell_type": "code",
   "execution_count": 71,
   "metadata": {},
   "outputs": [],
   "source": [
    "pattern=re.compile('[0-9]+,')\n",
    "for i in range(len(data)):\n",
    "    address=data['주소'][i]\n",
    "    result=pattern.findall(address)\n",
    "    if result != []:\n",
    "        c = address.split(\",\")[0]\n",
    "        data['주소'][i] = c   \n"
   ]
  },
  {
   "cell_type": "code",
   "execution_count": null,
   "metadata": {},
   "outputs": [],
   "source": [
    "data.to_csv(\"hospital_주소.csv\",index=False)"
   ]
  }
 ],
 "metadata": {
  "kernelspec": {
   "display_name": "Python 3.10.6 64-bit",
   "language": "python",
   "name": "python3"
  },
  "language_info": {
   "codemirror_mode": {
    "name": "ipython",
    "version": 3
   },
   "file_extension": ".py",
   "mimetype": "text/x-python",
   "name": "python",
   "nbconvert_exporter": "python",
   "pygments_lexer": "ipython3",
   "version": "3.10.6"
  },
  "orig_nbformat": 4,
  "vscode": {
   "interpreter": {
    "hash": "369f2c481f4da34e4445cda3fffd2e751bd1c4d706f27375911949ba6bb62e1c"
   }
  }
 },
 "nbformat": 4,
 "nbformat_minor": 2
}
